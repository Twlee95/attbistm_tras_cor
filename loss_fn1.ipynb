{
 "cells": [
  {
   "cell_type": "code",
   "execution_count": 1,
   "id": "cd152cf4-c000-4d63-a42c-080e78774325",
   "metadata": {},
   "outputs": [],
   "source": [
    "import import_ipynb\n",
    "import torch\n",
    "import torch.nn as nn\n",
    "\n",
    "\n",
    "def Selective_Regularization(y_hat, target, wp, bp):\n",
    "    loss_fn = nn.BCELoss()\n",
    "    return loss_fn(y_hat, target) + (torch.norm(wp,p='fro')+torch.norm(bp))"
   ]
  }
 ],
 "metadata": {
  "kernelspec": {
   "display_name": "py38_64",
   "language": "python",
   "name": "py38_64"
  },
  "language_info": {
   "codemirror_mode": {
    "name": "ipython",
    "version": 3
   },
   "file_extension": ".py",
   "mimetype": "text/x-python",
   "name": "python",
   "nbconvert_exporter": "python",
   "pygments_lexer": "ipython3",
   "version": "3.8.11"
  }
 },
 "nbformat": 4,
 "nbformat_minor": 5
}
